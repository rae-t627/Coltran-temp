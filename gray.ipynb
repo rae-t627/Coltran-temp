{
 "cells": [
  {
   "cell_type": "code",
   "execution_count": 1,
   "metadata": {},
   "outputs": [
    {
     "name": "stdout",
     "output_type": "stream",
     "text": [
      "Converted and saved: 000000000013.jpg\n",
      "Converted and saved: 000000000022.jpg\n",
      "Converted and saved: 000000000024.jpg\n"
     ]
    }
   ],
   "source": [
    "import os\n",
    "from PIL import Image\n",
    "\n",
    "def convert_images_to_grayscale(input_dir, output_dir):\n",
    "    # Ensure the output directory exists\n",
    "    os.makedirs(output_dir, exist_ok=True)\n",
    "\n",
    "    # Iterate through all files in the input directory\n",
    "    for filename in os.listdir(input_dir):\n",
    "        input_path = os.path.join(input_dir, filename)\n",
    "\n",
    "        # Check if the file is an image\n",
    "        if os.path.isfile(input_path) and filename.lower().endswith(('.png', '.jpg', '.jpeg', '.bmp', '.tiff')):\n",
    "            try:\n",
    "                # Open the image\n",
    "                img = Image.open(input_path)\n",
    "\n",
    "                # Convert to grayscale\n",
    "                grayscale_img = img.convert('L')\n",
    "\n",
    "                # Save the grayscale image to the output directory\n",
    "                output_path = os.path.join(output_dir, filename)\n",
    "                grayscale_img.save(output_path)\n",
    "\n",
    "                print(f\"Converted and saved: {filename}\")\n",
    "            except Exception as e:\n",
    "                print(f\"Error processing {filename}: {e}\")\n",
    "\n",
    "# Example usage\n",
    "input_directory = \"images\"\n",
    "output_directory = \"gray_images\"\n",
    "convert_images_to_grayscale(input_directory, output_directory)"
   ]
  }
 ],
 "metadata": {
  "kernelspec": {
   "display_name": "ivp",
   "language": "python",
   "name": "python3"
  },
  "language_info": {
   "codemirror_mode": {
    "name": "ipython",
    "version": 3
   },
   "file_extension": ".py",
   "mimetype": "text/x-python",
   "name": "python",
   "nbconvert_exporter": "python",
   "pygments_lexer": "ipython3",
   "version": "3.8.18"
  }
 },
 "nbformat": 4,
 "nbformat_minor": 2
}
